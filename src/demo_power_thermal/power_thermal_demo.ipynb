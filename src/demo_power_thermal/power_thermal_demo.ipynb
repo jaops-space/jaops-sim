{
 "cells": [
  {
   "cell_type": "code",
   "execution_count": 1,
   "id": "13a573aa-5c94-417d-8c19-7fde71e4e275",
   "metadata": {},
   "outputs": [],
   "source": [
    "from IPython import get_ipython\n",
    "ipython = get_ipython()\n",
    "if ipython is not None:\n",
    "    ipython.run_line_magic('load_ext', 'autoreload')\n",
    "    ipython.run_line_magic('autoreload', '2')\n",
    "else:\n",
    "    print(\"could not load extension\")"
   ]
  },
  {
   "cell_type": "code",
   "execution_count": 2,
   "id": "b27a9e29-4a2e-4cdb-8eba-16e9c0a2dcc2",
   "metadata": {},
   "outputs": [],
   "source": [
    "%reload_ext autoreload"
   ]
  },
  {
   "cell_type": "code",
   "execution_count": 3,
   "id": "7cae75ed-e9b4-41d2-83c8-4031687055b3",
   "metadata": {
    "scrolled": true
   },
   "outputs": [
    {
     "name": "stdout",
     "output_type": "stream",
     "text": [
      "[Warning] [omni.isaac.kit] \n",
      "[Warning] [omni.isaac.kit] =========================== DEPRECATION WARNING ===========================\n",
      "[Warning] [omni.isaac.kit] \n",
      "[Warning] [omni.isaac.kit] Traceback (most recent call last):\n",
      "[Warning] [omni.isaac.kit] File '/home/ljb/.local/share/ov/pkg/isaac-sim-4.1.0/kit/python/lib/python3.10/runpy.py', line 196\n",
      "[Warning] [omni.isaac.kit]   return _run_code(code, main_globals, None,\n",
      "[Warning] [omni.isaac.kit] File '/home/ljb/.local/share/ov/pkg/isaac-sim-4.1.0/kit/python/lib/python3.10/runpy.py', line 86\n",
      "[Warning] [omni.isaac.kit]   exec(code, run_globals)\n",
      "[Warning] [omni.isaac.kit] File '/home/ljb/.local/share/ov/pkg/isaac-sim-4.1.0/kit/python/lib/python3.10/site-packages/ipykernel_launcher.py', line 18\n",
      "[Warning] [omni.isaac.kit]   app.launch_new_instance()\n",
      "[Warning] [omni.isaac.kit] File '/home/ljb/.local/share/ov/pkg/isaac-sim-4.1.0/kit/python/lib/python3.10/site-packages/traitlets/config/application.py', line 1075\n",
      "[Warning] [omni.isaac.kit]   app.start()\n",
      "[Warning] [omni.isaac.kit] File '/home/ljb/.local/share/ov/pkg/isaac-sim-4.1.0/kit/python/lib/python3.10/site-packages/ipykernel/kernelapp.py', line 739\n",
      "[Warning] [omni.isaac.kit]   self.io_loop.start()\n",
      "[Warning] [omni.isaac.kit] File '/home/ljb/.local/share/ov/pkg/isaac-sim-4.1.0/exts/omni.isaac.core_archive/pip_prebundle/tornado/platform/asyncio.py', line 215\n",
      "[Warning] [omni.isaac.kit]   self.asyncio_loop.run_forever()\n",
      "[Warning] [omni.isaac.kit] File '/home/ljb/.local/share/ov/pkg/isaac-sim-4.1.0/kit/python/lib/python3.10/asyncio/base_events.py', line 603\n",
      "[Warning] [omni.isaac.kit]   self._run_once()\n",
      "[Warning] [omni.isaac.kit] File '/home/ljb/.local/share/ov/pkg/isaac-sim-4.1.0/kit/python/lib/python3.10/asyncio/base_events.py', line 1909\n",
      "[Warning] [omni.isaac.kit]   handle._run()\n",
      "[Warning] [omni.isaac.kit] File '/home/ljb/.local/share/ov/pkg/isaac-sim-4.1.0/kit/python/lib/python3.10/asyncio/events.py', line 80\n",
      "[Warning] [omni.isaac.kit]   self._context.run(self._callback, *self._args)\n",
      "[Warning] [omni.isaac.kit] File '/home/ljb/.local/share/ov/pkg/isaac-sim-4.1.0/kit/python/lib/python3.10/site-packages/ipykernel/kernelbase.py', line 545\n",
      "[Warning] [omni.isaac.kit]   await self.process_one()\n",
      "[Warning] [omni.isaac.kit] File '/home/ljb/.local/share/ov/pkg/isaac-sim-4.1.0/kit/python/lib/python3.10/site-packages/ipykernel/kernelbase.py', line 534\n",
      "[Warning] [omni.isaac.kit]   await dispatch(*args)\n",
      "[Warning] [omni.isaac.kit] File '/home/ljb/.local/share/ov/pkg/isaac-sim-4.1.0/kit/python/lib/python3.10/site-packages/ipykernel/kernelbase.py', line 437\n",
      "[Warning] [omni.isaac.kit]   await result\n",
      "[Warning] [omni.isaac.kit] File '/home/ljb/.local/share/ov/pkg/isaac-sim-4.1.0/kit/python/lib/python3.10/site-packages/ipykernel/ipkernel.py', line 362\n",
      "[Warning] [omni.isaac.kit]   await super().execute_request(stream, ident, parent)\n",
      "[Warning] [omni.isaac.kit] File '/home/ljb/.local/share/ov/pkg/isaac-sim-4.1.0/kit/python/lib/python3.10/site-packages/ipykernel/kernelbase.py', line 778\n",
      "[Warning] [omni.isaac.kit]   reply_content = await reply_content\n",
      "[Warning] [omni.isaac.kit] File '/home/ljb/.local/share/ov/pkg/isaac-sim-4.1.0/kit/python/lib/python3.10/site-packages/ipykernel/ipkernel.py', line 449\n",
      "[Warning] [omni.isaac.kit]   res = shell.run_cell(\n",
      "[Warning] [omni.isaac.kit] File '/home/ljb/.local/share/ov/pkg/isaac-sim-4.1.0/kit/python/lib/python3.10/site-packages/ipykernel/zmqshell.py', line 549\n",
      "[Warning] [omni.isaac.kit]   return super().run_cell(*args, **kwargs)\n",
      "[Warning] [omni.isaac.kit] File '/home/ljb/.local/share/ov/pkg/isaac-sim-4.1.0/kit/python/lib/python3.10/site-packages/IPython/core/interactiveshell.py', line 3075\n",
      "[Warning] [omni.isaac.kit]   result = self._run_cell(\n",
      "[Warning] [omni.isaac.kit] File '/home/ljb/.local/share/ov/pkg/isaac-sim-4.1.0/kit/python/lib/python3.10/site-packages/IPython/core/interactiveshell.py', line 3130\n",
      "[Warning] [omni.isaac.kit]   result = runner(coro)\n",
      "[Warning] [omni.isaac.kit] File '/home/ljb/.local/share/ov/pkg/isaac-sim-4.1.0/kit/python/lib/python3.10/site-packages/IPython/core/async_helpers.py', line 128\n",
      "[Warning]Starting kit application with the following args:  ['/home/ljb/.local/share/ov/pkg/isaac-sim-4.1.0/exts/omni.isaac.kit/omni/isaac/kit/simulation_app.py', '/home/ljb/.local/share/ov/pkg/isaac-sim-4.1.0/apps/omni.isaac.sim.python.kit', '--/app/tokens/exe-path=/home/ljb/.local/share/ov/pkg/isaac-sim-4.1.0/kit', '--/persistent/app/viewport/displayOptions=3094', '--/rtx/materialDb/syncLoads=True', '--/rtx/hydra/materialSyncLoads=True', '--/omni.kit.plugin/syncUsdLoads=True', '--/app/renderer/resolution/width=1280', '--/app/renderer/resolution/height=720', '--/app/window/width=1440', '--/app/window/height=900', '--/renderer/multiGpu/enabled=True', '--/app/fastShutdown=False', '--ext-folder', '/home/ljb/.local/share/ov/pkg/isaac-sim-4.1.0/exts', '--ext-folder', '/home/ljb/.local/share/ov/pkg/isaac-sim-4.1.0/apps', '--/physics/cudaDevice=0', '--portable', '--no-window', '--/app/window/hideUi=1']\n",
      "Passing the following args to the base kit application:  ['-f', '/home/ljb/.local/share/jupyter/runtime/kernel-2f383bc3-eb97-4a5c-9031-ebebcf3a0e9d.json']\n",
      " [omni.isaac.kit]   coro.send(None)\n",
      "[Warning] [omni.isaac.kit] File '/home/ljb/.local/share/ov/pkg/isaac-sim-4.1.0/kit/python/lib/python3.10/site-packages/IPython/core/interactiveshell.py', line 3334\n",
      "[Warning] [omni.isaac.kit]   has_raised = await self.run_ast_nodes(code_ast.body, cell_name,\n",
      "[Warning] [omni.isaac.kit] File '/home/ljb/.local/share/ov/pkg/isaac-sim-4.1.0/kit/python/lib/python3.10/site-packages/IPython/core/interactiveshell.py', line 3517\n",
      "[Warning] [omni.isaac.kit]   if await self.run_code(code, result, async_=asy):\n",
      "[Warning] [omni.isaac.kit] File '/home/ljb/.local/share/ov/pkg/isaac-sim-4.1.0/kit/python/lib/python3.10/site-packages/IPython/core/interactiveshell.py', line 3577\n",
      "[Warning] [omni.isaac.kit]   exec(code_obj, self.user_global_ns, self.user_ns)\n",
      "[Warning] [omni.isaac.kit] File '/tmp/ipykernel_1123556/626146382.py', line 4\n",
      "[Warning] [omni.isaac.kit]   from omni.isaac.kit import SimulationApp\n",
      "[Warning] [omni.isaac.kit] \n",
      "[Warning] [omni.isaac.kit] Please import 'isaacsim' before importing the 'omni.isaac.kit' extension...\n",
      "[Warning] [omni.isaac.kit]   >>> import isaacsim\n",
      "[Warning] [omni.isaac.kit]   >>> from omni.isaac.kit import SimulationApp\n",
      "[Warning] [omni.isaac.kit] \n",
      "[Warning] [omni.isaac.kit] or get the 'SimulationApp' class directly from the 'isaacsim' module\n",
      "[Warning] [omni.isaac.kit]   >>> from isaacsim import SimulationApp\n",
      "[Warning] [omni.isaac.kit] \n",
      "[Warning] [omni.isaac.kit] ===========================================================================\n",
      "[Warning] [omni.isaac.kit] \n",
      "[Warning] [omni.isaac.kit.simulation_app] fast shutdown not supported with jupyter notebooks\n",
      "[Info] [carb] Logging to file: /home/ljb/.local/share/ov/pkg/isaac-sim-4.1.0/kit/logs/Kit/Isaac-Sim/4.1/kit_20241213_214219.log\n",
      "2024-12-13 12:42:19 [0ms] [Warning] [omni.kit.app.plugin] No crash reporter present, dumps uploading isn't available.\n",
      "[0.044s] [ext: omni.kit.async_engine-0.0.0] startup\n",
      "[0.370s] [ext: omni.stats-1.0.1] startup\n",
      "[0.371s] [ext: omni.client-1.1.0] startup\n",
      "[0.395s] [ext: omni.datastore-0.0.0] startup\n",
      "[0.395s] [ext: omni.blobkey-1.1.0] startup\n",
      "[0.395s] [ext: omni.ujitso.default-1.0.0] startup\n",
      "[0.396s] [ext: omni.hsscclient-0.0.0] startup\n",
      "[0.396s] [ext: omni.rtx.shadercache.vulkan-1.0.0] startup\n",
      "[0.397s] [ext: omni.assets.plugins-0.0.0] startup\n",
      "[0.398s] [ext: omni.gpu_foundation-0.0.0] startup\n",
      "[0.406s] [ext: carb.windowing.plugins-1.0.0] startup\n",
      "[0.414s] [ext: omni.kit.renderer.init-0.0.0] startup\n",
      "\n",
      "|---------------------------------------------------------------------------------------------|\n",
      "| Driver Version: 535.183.01    | Graphics API: Vulkan\n",
      "|=============================================================================================|\n",
      "| GPU | Name                             | Active | LDA | GPU Memory | Vendor-ID | LUID       |\n",
      "|     |                                  |        |     |            | Device-ID | UUID       |\n",
      "|     |                                  |        |     |            | Bus-ID    |            |\n",
      "|---------------------------------------------------------------------------------------------|\n",
      "| 0   | NVIDIA GeForce RTX 3060          | Yes: 0 |     | 12534   MB | 10de      | 0          |\n",
      "|     |                                  |        |     |            | 2487      | 7395f2d2.. |\n",
      "|     |                                  |        |     |            | 1         |            |\n",
      "|=============================================================================================|\n",
      "| OS: 22.04.5 LTS (Jammy Jellyfish) ubuntu, Version: 22.04.5, Kernel: 6.8.0-49-generic\n",
      "| XServer Vendor: The X.Org Foundation, XServer Version: 12101004 (1.21.1.4)\n",
      "| Processor: 11th Gen Intel(R) Core(TM) i7-11700 @ 2.50GHz | Cores: 8 | Logical: 16\n",
      "|---------------------------------------------------------------------------------------------|\n",
      "| Total Memory (MB): 31975 | Free Memory: 19113\n",
      "| Total Page/Swap (MB): 2047 | Free Page/Swap: 2047\n",
      "|---------------------------------------------------------------------------------------------|\n",
      "[0.870s] [ext: omni.kit.pipapi-0.0.0] startup\n",
      "[0.871s] [ext: omni.kit.pip_archive-0.0.0] startup\n",
      "[0.871s] [ext: omni.pip.compute-1.4.0] startup\n",
      "[0.872s] [ext: omni.kit.telemetry-0.5.0] startup\n",
      "[0.888s] [ext: omni.pip.cloud-1.1.3] startup\n",
      "[0.891s] [ext: omni.isaac.core_archive-2.3.0] startup\n",
      "[0.892s] [ext: omni.mtlx-0.1.0] startup\n",
      "[0.892s] [ext: omni.usd.config-1.0.4] startup\n",
      "[0.896s] [ext: omni.gpucompute.plugins-0.0.0] startup\n",
      "[0.896s] [ext: omni.usd.libs-1.0.1] startup\n",
      "[0.977s] [ext: omni.isaac.ml_archive-2.0.1] startup\n",
      "[0.977s] [ext: omni.kit.loop-isaac-1.2.0] startup\n",
      "[0.977s] [ext: omni.kit.test-0.0.0] startup\n",
      "[1.008s] [ext: omni.appwindow-1.1.8] startup\n",
      "[1.010s] [ext: omni.kit.renderer.core-1.0.1] startup\n",
      "[1.017s] [ext: omni.kit.renderer.capture-0.0.0] startup\n",
      "[1.018s] [ext: omni.kit.renderer.imgui-1.0.1] startup\n",
      "[1.091s] [ext: omni.ui-2.23.11] startup\n",
      "[1.105s] [ext: omni.kit.mainwindow-1.0.3] startup\n",
      "[1.107s] [ext: carb.audio-0.1.0] startup\n",
      "[1.109s] [ext: omni.uiaudio-1.0.0] startup\n",
      "[1.111s] [ext: omni.kit.uiapp-0.0.0] startup\n",
      "[1.111s] [ext: omni.usd.schema.geospatial-0.0.0] startup\n",
      "[1.212s] [ext: omni.anim.navigation.schema-106.0.2] startup\n",
      "[1.225s] [ext: omni.usd.schema.audio-0.0.0] startup\n",
      "[1.229s] [ext: omni.usd.schema.semantics-0.0.0] startup\n",
      "[1.236s] [ext: omni.usd.schema.anim-0.0.0] startup\n",
      "[1.254s] [ext: omni.usd.schema.omnigraph-1.0.0] startup\n",
      "[1.260s] [ext: omni.usd.schema.isaac-2.1.0] startup\n",
      "[1.267s] [ext: omni.usd.schema.scene.visualization-2.0.2] startup\n",
      "[1.268s] [ext: omni.usd.schema.physx-106.0.20] startup\n",
      "[1.312s] [ext: omni.usd.schema.omniscripting-1.0.0] startup\n",
      "[1.317s] [ext: omni.anim.graph.schema-106.0.2] startup\n",
      "[1.324s] [ext: omni.usd.schema.forcefield-106.0.20] startup\n",
      "[1.330s] [ext: omni.kit.window.popup_dialog-2.0.24] startup\n",
      "[1.334s] [ext: omni.graph.exec-0.9.3] startup\n",
      "[1.334s] [ext: omni.kit.widget.nucleus_connector-1.1.8] startup\n",
      "[1.336s] [ext: omni.kit.usd_undo-0.1.8] startup\n",
      "[1.336s] [ext: omni.kit.exec.core-0.13.2] startup\n",
      "[1.338s] [ext: omni.usd_resolver-1.0.0] startup\n",
      "[1.342s] [ext: omni.resourcemonitor-105.0.1] startup\n",
      "[1.344s] [ext: omni.kit.actions.core-1.0.0] startup\n",
      "[1.346s] [ext: omni.activity.core-1.0.1] startup\n",
      "[1.347s] [ext: omni.usd.core-1.2.11] startup\n",
      "[1.351s] [ext: omni.timeline-1.0.10] startup\n",
      "[1.353s] [ext: omni.kit.commands-1.4.9] startup\n",
      "[1.356s] [ext: usdrt.scenegraph-7.4.8] startup\n",
      "[1.401s] [ext: omni.kit.audiodeviceenum-1.0.1] startup\n",
      "[1.403s] [ext: omni.hydra.usdrt_delegate-7.4.7] startup\n",
      "[1.425s] [ext: omni.hydra.scene_delegate-0.3.3] startup\n",
      "[1.432s] [ext: omni.usd-1.11.2] startup\n",
      "[1.479s] [ext: omni.kit.notification_manager-1.0.8] startup\n",
      "[1.481s] [ext: omni.kit.clipboard-1.0.3] startup\n",
      "[1.481s] [ext: omni.kit.widget.path_field-2.0.9] startup\n",
      "[1.482s] [ext: omni.kit.collaboration.telemetry-1.0.0] startup\n",
      "[1.483s] [ext: omni.kit.helper.file_utils-0.1.8] startup\n",
      "[1.484s] [ext: omni.kit.widget.nucleus_info-1.0.2] startup\n",
      "[1.485s] [ext: omni.kit.widget.context_menu-1.2.1] startup\n",
      "[1.486s] [ext: omni.kit.widget.browser_bar-2.0.10] startup\n",
      "[1.486s] [ext: omni.kit.collaboration.channel_manager-1.0.11] startup\n",
      "[1.487s] [ext: omni.kit.widget.filebrowser-2.10.48] startup\n",
      "[1.490s] [ext: omni.kit.search_core-1.0.5] startup\n",
      "[1.491s] [ext: omni.kit.widget.options_menu-1.1.4] startup\n",
      "[1.494s] [ext: omni.kit.widget.searchable_combobox-1.0.6] startup\n",
      "[1.494s] [ext: omni.kit.widget.search_delegate-1.0.4] startup\n",
      "[1.495s] [ext: omni.ui.scene-1.9.3] startup\n",
      "[1.500s] [ext: omni.kit.widget.options_button-1.0.2] startup\n",
      "[1.500s] [ext: omni.kit.widget.settings-1.1.1] startup\n",
      "[1.502s] [ext: omni.kit.menu.utils-1.5.27] startup\n",
      "[1.513s] [ext: omni.kit.window.filepicker-2.10.34] startup\n",
      "[1.520s] [ext: omni.kit.widget.prompt-1.0.7] startup\n",
      "[1.521s] [ext: omni.kit.usd.layers-2.1.31] startup\n",
      "[1.529s] [ext: omni.kit.window.preferences-1.5.3] startup\n",
      "[1.536s] [ext: omni.kit.widget.live_session_management.ui-1.0.1] startup\n",
      "[1.538s] [ext: omni.kit.collaboration.presence_layer-1.0.8] startup\n",
      "[1.540s] [ext: omni.kit.widget.live_session_management-1.2.18] startup\n",
      "[1.542s] [ext: omni.inspect-1.0.1] startup\n",
      "[1.543s] [ext: omni.kit.widget.graph-1.12.8] startup\n",
      "[1.547s] [ext: omni."
     ]
    },
    {
     "name": "stderr",
     "output_type": "stream",
     "text": [
      "Warning: Possible version incompatibility. Attempting to load omni::fabric::IPath with version v0.2 against v0.1.\n"
     ]
    },
    {
     "name": "stdout",
     "output_type": "stream",
     "text": [
      "kit.widget.filter-1.1.4] startup\n",
      "[1.548s] [ext: omni.graph.core-2.170.3] startup\n",
      "[1.551s] [ext: omni.kit.window.extensions-1.4.9] startup\n",
      "[1.556s] [ext: omni.kit.hotkeys.core-1.3.3] startup\n",
      "[1.557s] [ext: omni.kit.context_menu-1.8.0] startup\n",
      "[1.559s] [ext: omni.mdl-52.0.1] startup\n",
      "[1.578s] [ext: omni.iray.libs-0.0.0] startup\n",
      "[1.582s] [ext: omni.kit.primitive.mesh-1.0.16] startup\n",
      "[1.585s] [ext: omni.kit.stage_template.core-1.1.21] startup\n",
      "[1.586s] [ext: omni.mdl.neuraylib-0.2.5] startup\n",
      "[1.587s] [ext: omni.ujitso.processor.texture-1.0.0] startup\n",
      "[1.588s] [ext: omni.kit.window.file_exporter-1.0.29] startup\n",
      "[1.590s] [ext: omni.kit.stage_templates-1.2.3] startup\n",
      "[1.591s] [ext: omni.volume-0.5.0] startup\n",
      "[1.594s] [ext: omni.ujitso.client-0.0.0] startup\n",
      "[1.594s] [ext: omni.kit.window.file_importer-1.1.11] startup\n",
      "[1.595s] [ext: omni.kit.window.drop_support-1.0.2] startup\n",
      "[1.595s] [ext: omni.kit.window.file-1.3.52] startup\n",
      "[1.598s] [ext: omni.kit.window.content_browser_registry-0.0.6] startup\n",
      "[1.599s] [ext: omni.hydra.rtx-0.2.0] startup\n",
      "[1.615s] [ext: omni.kit.widget.highlight_label-1.0.2] startup\n",
      "[1.616s] [ext: omni.kit.window.content_browser-2.9.14] startup\n",
      "[1.631s] [ext: omni.kit.widget.stage-2.10.26] startup\n",
      "[1.641s] [ext: omni.kit.material.library-1.4.4] startup\n",
      "[1.646s] [ext: omni.kit.hydra_texture-1.2.6] startup\n",
      "[1.652s] [ext: omni.kit.viewport.legacy_gizmos-1.0.15] startup\n",
      "[1.656s] [ext: omni.kit.raycast.query-1.0.5] startup\n",
      "[1.664s] [ext: omni.hydra.engine.stats-1.0.2] startup\n",
      "[1.668s] [ext: omni.kit.widget.searchfield-1.1.6] startup\n",
      "[1.669s] [ext: omni.kit.widget.viewport-106.0.3] startup\n",
      "[1.673s] [ext: omni.kit.viewport.registry-104.0.6] startup\n",
      "[1.673s] [ext: omni.kit.widget.text_editor-1.0.2] startup\n",
      "[1.675s] [ext: omni.kit.viewport.window-106.0.8] startup\n",
      "[1.692s] [ext: omni.kit.window.property-1.11.1] startup\n",
      "[1.694s] [ext: omni.usdphysics-106.0.20] startup\n",
      "[1.697s] [ext: omni.graph.tools-1.78.0] startup\n",
      "[1.716s] [ext: omni.kit.viewport.utility-1.0.17] startup\n",
      "[1.717s] [ext: omni.kit.property.usd-3.21.28] startup\n",
      "[1.725s] [ext: omni.graph-1.135.0] startup\n",
      "[1.871s] [ext: omni.graph.image.core-0.3.2] startup\n",
      "[1.876s] [ext: omni.graph.ui-1.70.0] startup\n",
      "[1.892s] [ext: omni.graph.action_core-1.1.4] startup\n",
      "[1.903s] [ext: omni.kit.window.cursor-1.1.2] startup\n",
      "[1.904s] [ext: omni.graph.image.nodes-1.0.2] startup\n",
      "[1.907s] [ext: omni.graph.action_nodes-1.23.0] startup\n",
      "[1.916s] [ext: omni.kit.viewport.menubar.core-106.0.2] startup\n",
      "[1.967s] [ext: omni.graph.nodes-1.143.0] startup\n",
      "[1.980s] [ext: omni.graph.action-1.102.1] startup\n",
      "[1.983s] [ext: omni.warp.core-1.2.1] startup\n",
      "[2.084s] [ext: omni.syntheticdata-0.6.7] startup\n",
      "[2.144s] [ext: omni.warp-1.2.1] startup\n",
      "[2.161s] [ext: omni.kvdb-106.0.20] startup\n",
      "[2.185s] [ext: omni.physx.foundation-106.0.20] startup\n",
      "[2.188s] [ext: omni.localcache-106.0.20] startup\n",
      "[2.202s] [ext: omni.convexdecomposition-106.0.20] startup\n",
      "[2.215s] [ext: omni.sensors.tiled-0.0.4] startup\n",
      "[2.223s] [ext: omni.physx.cooking-106.0.20] startup\n",
      "[2.269s] [ext: omni.kit.viewport.actions-106.0.3] startup\n",
      "[2.360s] [ext: omni.debugdraw-0.1.3] startup\n",
      "[2.383s] [ext: omni.physx-106.0.20] startup\n",
      "[2.405s] [ext: omni.kit.viewport.menubar.display-106.0.2] startup\n",
      "[2.415s] [ext: omni.kit.manipulator.transform-104.7.5] startup\n",
      "[2.421s] [ext: omni.kit.widget.toolbar-1.6.2] startup\n",
      "[2.451s] [ext: omni.physx.stageupdate-106.0.20] startup\n",
      "[2.454s] [ext: omni.usdphysics.ui-106.0.20] startup\n",
      "[2.482s] [ext: omni.physx.commands-106.0.20] startup\n",
      "[2.487s] [ext: omni.kit.manipulator.tool.snap-1.4.5] startup\n",
      "[2.492s] [ext: omni.kit.property.material-1.9.4] startup\n",
      "[2.496s] [ext: omni.physx.ui-106.0.20] startup\n",
      "[2.524s] [ext: omni.kit.manipulator.selector-1.1.1] startup\n",
      "[2.527s] [ext: omni.kit.widget.material_preview-1.0.16] startup\n",
      "[2.529s] [ext: omni.kit.manipulator.viewport-107.0.0] startup\n",
      "[2.531s] [ext: omni.kit.property.physx-106.0.20] startup\n",
      "[2.599s] [ext: omni.physx.demos-106.0.20] startup\n",
      "[2.618s] [ext: omni.kit.viewport.manipulator.transform-106.0.1] startup\n",
      "[2.620s] [ext: omni.kit.graph.delegate.default-1.2.2] startup\n"
     ]
    },
    {
     "name": "stderr",
     "output_type": "stream",
     "text": [
      "Warning: Possible version incompatibility. Attempting to load omni::fabric::IPath with version v0.2 against v0.1.\n"
     ]
    },
    {
     "name": "stdout",
     "output_type": "stream",
     "text": [
      "Warp 1.2.1 initialized:\n",
      "   CUDA Toolkit 11.8, Driver 12.2\n",
      "   Devices:\n",
      "     \"cpu\"      : \"x86_64\"\n",
      "     \"cuda:0\"   : \"NVIDIA GeForce RTX 3060\" (12 GiB, sm_86, mempool enabled)\n",
      "   Kernel cache:\n",
      "     /home/ljb/.cache/warp/1.2.1\n",
      "[2.622s] [ext: omni.ui_query-1.1.2] startup\n",
      "[2.623s] [ext: omni.fabric.commands-1.1.4] startup\n",
      "[2.630s] [ext: omni.physx.vehicle-106.0.20] startup\n",
      "[2.649s] [ext: omni.kit.manipulator.prim.core-107.0.3] startup\n",
      "[2.657s] [ext: omni.kit.graph.editor.core-1.5.3] startup\n",
      "[2.660s] [ext: omni.kit.ui_test-1.2.18] startup\n",
      "[2.662s] [ext: omni.kit.graph.usd.commands-1.3.1] startup\n",
      "[2.663s] [ext: omni.physx.camera-106.0.20] startup\n",
      "[2.674s] [ext: omni.kit.manipulator.prim.fabric-106.0.1] startup\n",
      "[2.677s] [ext: omni.kit.manipulator.prim.usd-106.0.1] startup\n",
      "[2.679s] [ext: omni.physx.cct-106.0.20] startup\n",
      "[2.690s] [ext: omni.physics.tensors-106.0.20] startup\n",
      "[2.701s] [ext: omni.isaac.version-1.1.0] startup\n",
      "[2.705s] [ext: omni.kit.manipulator.selection-104.0.9] startup\n",
      "[2.708s] [ext: omni.kit.manipulator.prim-106.0.0] startup\n",
      "[2.708s] [ext: omni.command.usd-1.0.3] startup\n",
      "[2.710s] [ext: omni.physx.tensors-106.0.20] startup\n",
      "[2.715s] [ext: omni.isaac.nucleus-0.3.0] startup\n",
      "[2.716s] [ext: omni.kit.window.toolbar-1.6.1] startup\n",
      "[2.719s] [ext: omni.kit.widget.layers-1.7.9] startup\n",
      "[2.730s] [ext: omni.physx.graph-106.0.20] startup\n",
      "[2.745s] [ext: omni.physx.supportui-106.0.20] startup\n",
      "[2.768s] [ext: omni.physx.telemetry-106.0.20] startup\n",
      "[2.777s] [ext: omni.graph.scriptnode-1.19.1] startup\n",
      "[2.780s] [ext: omni.graph.ui_nodes-1.25.1] startup\n",
      "[2.787s] [ext: omni.kit.numpy.common-0.1.2] startup\n",
      "[2.790s] [ext: omni.physx.bundle-106.0.20] startup\n",
      "[2.791s] [ext: omni.kit.window.material_graph-1.8.15] startup\n",
      "[2.840s] [ext: omni.graph.bundle.action-2.0.4] startup\n",
      "[2.841s] [ext: omni.isaac.dynamic_control-1.3.8] startup\n",
      "[2.851s] [ext: omni.replicator.core-1.11.14] startup\n",
      "2024-12-13 12:42:22 [2,981ms] [Warning] [omni.replicator.core.scripts.annotators] Annotator PostProcessDispatch is already registered, overwriting annotator template\n",
      "[3.117s] [ext: omni.isaac.core-3.18.1] startup\n",
      "[4.397s] [ext: omni.graph.visualization.nodes-2.1.1] startup\n",
      "[4.408s] [ext: omni.isaac.core_nodes-1.16.1] startup\n",
      "[4.425s] [ext: omni.isaac.cloner-0.8.1] startup\n",
      "[4.429s] [ext: omni.isaac.ui-0.16.0] startup\n",
      "[4.440s] [ext: omni.kit.graph.widget.variables-2.1.0] startup\n",
      "[4.447s] [ext: omni.kit.graph.delegate.modern-1.10.6] startup\n",
      "[4.453s] [ext: omni.isaac.wheeled_robots-2.3.3] startup\n",
      "[4.464s] [ext: omni.isaac.gym-0.11.3] startup\n",
      "[4.467s] [ext: omni.graph.window.core-1.109.0] startup\n",
      "[4.493s] [ext: omni.isaac.debug_draw-1.1.0] startup\n",
      "[4.501s] [ext: omni.isaac.block_world-1.0.0] startup\n",
      "[4.507s] [ext: omni.graph.window.generic-1.24.0] startup\n",
      "[4.522s] [ext: omni.isaac.menu-0.5.0] startup\n",
      "[4.527s] [ext: omni.isaac.occupancy_map-1.0.2] startup\n",
      "[4.535s] [ext: omni.importer.mjcf-1.1.1] startup\n",
      "[4.545s] [ext: omni.graph.window.action-1.26.0] startup\n",
      "[4.555s] [ext: omni.kit.widget.live-2.1.6] startup\n",
      "[4.558s] [ext: omni.kit.actions.window-1.1.1] startup\n",
      "[4.561s] [ext: omni.kit.ui.actions-1.0.1] startup\n",
      "[4.563s] [ext: omni.kit.widget.cache_indicator-2.0.8] startup\n",
      "[4.617s] [ext: omni.kit.hotkeys.window-1.4.5] startup\n",
      "[4.623s] [ext: omni.kit.selection-0.1.4] startup\n",
      "[4.625s] [ext: omni.kit.menu.common-1.1.5] startup\n",
      "[4.627s] [ext: omni.sensors.nv.common-1.2.2-isaac] startup\n",
      "[4.637s] [ext: omni.isaac.kit-1.13.0] startup\n",
      "[4.638s] [ext: omni.kit.menu.edit-1.1.24] startup\n",
      "[4.641s] [ext: omni.kit.menu.file-1.1.10] startup\n",
      "[4.644s] [ext: omni.isaac.range_sensor-3.1.1] startup\n",
      "[4.658s] [ext: omni.sensors.nv.materials-1.2.1-isaac] startup\n",
      "[4.661s] [ext: omni.kit.property.audio-1.0.11] startup\n",
      "[4.664s] [ext: omni.kit.widget.stage_icons-1.0.4] startup\n",
      "[4.666s] [ext: omni.kit.property.geometry-1.3.0] startup\n",
      "[4.670s] [ext: omni.kit.property.camera-1.0.6] startup\n",
      "[4.672s] [ext: omni.sensors.nv.lidar-1.2.2-isaac] startup\n",
      "[4.678s] [ext: omni.sensors.nv.wpm-1.2.1-isaac] startup\n",
      "[4.679s] [ext: omni.hydra.scene_api-0.1.2] startup\n",
      "[4.687s] [ext: omni.kit.window.stage-2.5.10] startup\n",
      "[4.691s] [ext: omni.kit.property.render-1.1.1] startup\n",
      "[4.693s] [ext: omni.kit.property.light-1.0.8] startup\n",
      "[4.695s] [ext: omni.sensors.nv.radar-1.2.1-isaac] startup\n",
      "[4.701s] [ext: omni.kit.property.transform-1.5.1] startup\n",
      "[4.706s] [ext: omni.kit.menu.stage-1.2.5] startup\n",
      "[4.708s] [ext: omni.kit.profiler.window-2.2.1] startup\n",
      "2024-12-13 12:42:24 [4,703ms] [Warning] [omni.kit.profiler.window] remove _SpanInstance.__lt__ and use insort 'key' arg instead\n",
      "[4.715s] [ext: omni.kit.property.bundle-1.2.11] startup\n",
      "[4.718s] [ext: omni.kit.property.isaac-0.2.3] startup\n",
      "[4.720s] [ext: omni.isaac.sensor-12.7.1] startup\n",
      "[4.792s] [ext: omni.isaac.surface_gripper-1.0.1] startup\n",
      "[4.798s] [ext: omni.kit.stage_column.payload-2.0.0] startup\n",
      "[4.809s] [ext: omni.kit.property.layer-1.1.6] startup\n",
      "[4.820s] [ext: omni.isaac.scene_blox-0.1.2] startup\n",
      "[4.822s] [ext: omni.isaac.quadruped-1.4.5] startup\n",
      "[4.844s] [ext: omni.isaac.manipulators-2.1.0] startup\n",
      "[4.851s] [ext: omni.isaac.lula-3.0.1] startup\n",
      "[4.862s] [ext: omni.kit.viewport.menubar.render-106.1.3] startup\n",
      "[4.870s] [ext: omni.kit.viewport.menubar.settings-106.0.1] startup\n",
      "[4.877s] [ext: omni.kit.viewport.menubar.camera-105.1.8] startup\n",
      "[4.883s] [ext: omni.kit.manipulator.camera-105.0.5] startup\n",
      "[4.886s] [ext: omni.isaac.motion_generation-7.1.0] startup\n",
      "[4.891s] [ext: omni.kit.widget.calendar-1.0.8] startup\n",
      "[4.894s] [ext: omni.kit.stage_column.variant-1.0.13] startup\n",
      "[4.896s] [ext: omni.kit.viewport.bundle-104.0.1] startup\n",
      "[4.897s] [ext: omni.isaac.universal_robots-0.3.5] startup\n",
      "[4.898s] [ext: omni.kit.widget.extended_searchfield-1.0.28] startup\n",
      "[4.909s] [ext: omni.kit.widget.timeline-105.0.1] startup\n",
      "[4.913s] [ext: omni.kit.window.commands-0.2.5] startup\n",
      "[4.916s] [ext: omni.kit.window.console-0.2.12] startup\n",
      "[4.927s] [ext: omni.kit.window.script_editor-1.7.6] startup\n",
      "[4.929s] [ext: omni.kit.menu.create-1.0.13] startup\n",
      "[4.932s] [ext: omni.kit.window.status_bar-0.1.6] startup\n",
      "[4.937s] [ext: omni.rtx.window.settings-0.6.16] startup\n",
      "[4.942s] [ext: omni.isaac.franka-0.4.1] startup\n",
      "[4.944s] [ext: omni.kit.window.title-1.1.3] startup\n",
      "[4.947s] [ext: omni.replicator.isaac-1.15.0] startup\n",
      "[4.965s] [ext: omni.replicator.replicator_yaml-2.0.5] startup\n",
      "[4.992s] [ext: omni.rtx.settings.core-0.6.0] startup\n",
      "[5.002s] [ext: omni.isaac.cortex-0.3.8] startup\n",
      "[5.009s] [ext: omni.kit.viewport.menubar.lighting-106.0.2] startup\n",
      "[5.017s] [ext: semantics.schema.editor-0.3.6] startup\n",
      "[5.022s] [ext: semantics.schema.property-1.0.3] startup\n",
      "[5.024s] [ext: omni.kit.viewport.rtx-104.0.1] startup\n",
      "[5.026s] [ext: omni.isaac.utils-1.0.1] startup\n",
      "[5.030s] [ext: omni.isaac.cortex.sample_behaviors-1.0.5] startup\n",
      "[5.032s] [ext: omni.importer.urdf-1.14.1] startup\n",
      "[5.087s] [ext: omni.kit.window.stats-0.1.6] startup\n",
      "[5.094s] [ext: omni.isaac.sim.python-4.1.0] startup\n",
      "[5.095s] Simulation App Starting\n",
      "Saving a temp livesync stage at  omniverse://localhost/Users/ljb/power_thermal_demo.usd  ...Done.\n",
      "[7.429s] app ready\n"
     ]
    },
    {
     "ename": "AttributeError",
     "evalue": "'NoneType' object has no attribute 'set_tooltip'",
     "output_type": "error",
     "traceback": [
      "\u001b[0;31m---------------------------------------------------------------------------\u001b[0m",
      "\u001b[0;31mAttributeError\u001b[0m                            Traceback (most recent call last)",
      "File \u001b[0;32m~/.local/share/ov/pkg/isaac-sim-4.1.0/kit/exts/omni.kit.widget.live/omni/kit/widget/live/live_state_menu.py:77\u001b[0m, in \u001b[0;36mLiveStateDelegate._on_layer_event\u001b[0;34m(self, event)\u001b[0m\n\u001b[1;32m     74\u001b[0m \u001b[38;5;28;01mif\u001b[39;00m \u001b[38;5;129;01mnot\u001b[39;00m payload\u001b[38;5;241m.\u001b[39mis_layer_influenced(\u001b[38;5;28mself\u001b[39m\u001b[38;5;241m.\u001b[39m_usd_context\u001b[38;5;241m.\u001b[39mget_stage_url()):\n\u001b[1;32m     75\u001b[0m     \u001b[38;5;28;01mreturn\u001b[39;00m\n\u001b[0;32m---> 77\u001b[0m \u001b[38;5;28;43mself\u001b[39;49m\u001b[38;5;241;43m.\u001b[39;49m\u001b[43m__update_live_tooltip\u001b[49m\u001b[43m(\u001b[49m\u001b[43m)\u001b[49m\n",
      "File \u001b[0;32m~/.local/share/ov/pkg/isaac-sim-4.1.0/kit/exts/omni.kit.widget.live/omni/kit/widget/live/live_state_menu.py:168\u001b[0m, in \u001b[0;36mLiveStateDelegate.__update_live_tooltip\u001b[0;34m(self)\u001b[0m\n\u001b[1;32m    166\u001b[0m peer_users_count \u001b[38;5;241m=\u001b[39m \u001b[38;5;28mlen\u001b[39m(current_session\u001b[38;5;241m.\u001b[39mpeer_users)\n\u001b[1;32m    167\u001b[0m \u001b[38;5;28;01mif\u001b[39;00m peer_users_count \u001b[38;5;241m>\u001b[39m \u001b[38;5;241m0\u001b[39m:\n\u001b[0;32m--> 168\u001b[0m     \u001b[38;5;28;43mself\u001b[39;49m\u001b[38;5;241;43m.\u001b[39;49m\u001b[43m_live_background\u001b[49m\u001b[38;5;241;43m.\u001b[39;49m\u001b[43mset_tooltip\u001b[49m(\n\u001b[1;32m    169\u001b[0m         \u001b[38;5;124mf\u001b[39m\u001b[38;5;124m\"\u001b[39m\u001b[38;5;124mLeave Session \u001b[39m\u001b[38;5;132;01m{\u001b[39;00mcurrent_session\u001b[38;5;241m.\u001b[39mname\u001b[38;5;132;01m}\u001b[39;00m\u001b[38;5;130;01m\\n\u001b[39;00m\u001b[38;5;132;01m{\u001b[39;00mpeer_users_count\u001b[38;5;250m \u001b[39m\u001b[38;5;241m+\u001b[39m\u001b[38;5;250m \u001b[39m\u001b[38;5;241m1\u001b[39m\u001b[38;5;132;01m}\u001b[39;00m\u001b[38;5;124m Total Users in Session\u001b[39m\u001b[38;5;124m\"\u001b[39m\n\u001b[1;32m    170\u001b[0m     )\n\u001b[1;32m    171\u001b[0m \u001b[38;5;28;01melse\u001b[39;00m:\n\u001b[1;32m    172\u001b[0m     \u001b[38;5;28mself\u001b[39m\u001b[38;5;241m.\u001b[39m_live_background\u001b[38;5;241m.\u001b[39mset_tooltip(\n\u001b[1;32m    173\u001b[0m         \u001b[38;5;124mf\u001b[39m\u001b[38;5;124m\"\u001b[39m\u001b[38;5;124mLeave Session \u001b[39m\u001b[38;5;132;01m{\u001b[39;00mcurrent_session\u001b[38;5;241m.\u001b[39mname\u001b[38;5;132;01m}\u001b[39;00m\u001b[38;5;124m\"\u001b[39m\n\u001b[1;32m    174\u001b[0m     )\n",
      "\u001b[0;31mAttributeError\u001b[0m: 'NoneType' object has no attribute 'set_tooltip'"
     ]
    }
   ],
   "source": [
    "import getpass\n",
    "\n",
    "user = getpass.getuser()\n",
    "from omni.isaac.kit import SimulationApp\n",
    "\n",
    "# Set the path below to your desired nucleus server\n",
    "# Make sure you installed a local nucleus server before this\n",
    "# and that isaacsim is running\n",
    "simulation_app = SimulationApp({\"livesync_usd\": f\"omniverse://localhost/Users/{user}/power_thermal_demo.usd\"})"
   ]
  },
  {
   "cell_type": "code",
   "execution_count": 4,
   "id": "4316809f-7932-4a6d-9f24-cc1e0b234d70",
   "metadata": {},
   "outputs": [],
   "source": [
    "import carb\n",
    "from omni.physx import get_physx_scene_query_interface  # for raycasting e.g raycast_closest()\n",
    "from omni.isaac.core import World\n",
    "from omni.isaac.core.objects import DynamicCuboid, DynamicSphere, DynamicCone\n",
    "from omni.timeline import get_timeline_interface\n",
    "from omni.isaac.core.utils.stage import get_current_stage\n",
    "import omni.isaac.core.utils.prims as prims_utils\n",
    "\n",
    "import numpy as np\n",
    "import matplotlib.pyplot as plt\n",
    "from pprint import pprint"
   ]
  },
  {
   "cell_type": "code",
   "execution_count": 5,
   "id": "f2025d05-03f9-4259-94ad-f2a13f16e1ac",
   "metadata": {},
   "outputs": [],
   "source": [
    "from mesh_raycast_utils import adjust_light, get_mesh_vertices_world, get_rect_areas, get_rect_normals, get_quad_centers, color_conversion, compute_sun_to_mesh, set_prim_orientation_euler, quick_stats\n",
    "from power_thermal_computation import compute_power, compute_thermal_node, compute_thermal_surface"
   ]
  },
  {
   "cell_type": "markdown",
   "id": "704b8804-b8eb-444a-aa0b-2dba6be4a0d8",
   "metadata": {},
   "source": [
    "# Setup Simple Scene\n",
    "Sun + Flat Plane (lunar surface) + Solar Panel"
   ]
  },
  {
   "cell_type": "code",
   "execution_count": 6,
   "id": "79a314df-c295-4c9b-bd5b-7126052e0ea0",
   "metadata": {},
   "outputs": [],
   "source": [
    "world = World(stage_units_in_meters=1.0)\n",
    "stage = get_current_stage()"
   ]
  },
  {
   "cell_type": "code",
   "execution_count": 7,
   "id": "40a49ca9-6e35-437e-9fc5-6112120b5ddf",
   "metadata": {},
   "outputs": [],
   "source": [
    "world.clear()\n",
    "# world.scene.add_default_ground_plane()\n",
    "# A render/ step or an update call is needed to reflect the changes to the opened USD in Isaac Sim GUI\n",
    "#  Note: avoid pressing play/ pause or stop in the GUI in this workflow.\n",
    "world.render()"
   ]
  },
  {
   "cell_type": "code",
   "execution_count": 8,
   "id": "b90eb156-4fa1-4749-868e-c9614112c395",
   "metadata": {},
   "outputs": [],
   "source": [
    "# Create the Sun\n",
    "sun = prims_utils.create_prim(\n",
    "    \"/World/Sun\",\n",
    "    \"SphereLight\",\n",
    "    position=np.array([1.0, 1.0, 1.0]),\n",
    "    attributes={\n",
    "        \"inputs:radius\": 1,\n",
    "        \"inputs:intensity\": 5e3,\n",
    "        \"inputs:color\": (1.0, 1.0, 1.0)\n",
    "    }\n",
    ")\n",
    "world.render()"
   ]
  },
  {
   "cell_type": "code",
   "execution_count": 9,
   "id": "075b0b5b-e72d-43dc-9ac6-7eff25d7ee28",
   "metadata": {},
   "outputs": [],
   "source": [
    "# Define Sun position\n",
    "# sun_coord = (5, 5, 5)\n",
    "# sun_coord = (-5, -5, 5)\n",
    "sun_coord = (8, -5, 3)\n",
    "sun_coord = (-5, 5, 5)\n",
    "\n",
    "adjust_light(stage, sun_coord)\n",
    "world.render()"
   ]
  },
  {
   "cell_type": "code",
   "execution_count": 10,
   "id": "768aeec3-5940-44d9-9fc8-29cd35cfb3be",
   "metadata": {},
   "outputs": [],
   "source": [
    "# Load a USD prepared with the meshes of ground + solar panel + two supports\n",
    "\n",
    "# IMPORTANT: First time: copy paste the usd from the github repository to the nucleus server\n",
    "# from: <path to the repository>/jaops-sim/scenes/assets/simplified_surface_solar_panel.usd\n",
    "# to: omniverse://localhost/Users/<your username>/simplified_surface_solar_panel.usd\n",
    "# (you can copy paste within the IsaacSim Content Window)\n",
    "\n",
    "usd_path = f\"omniverse://localhost/Users/{user}/simplified_surface_solar_panel.usd\"\n",
    "prim_path = \"/World/Lunar_Base\"\n",
    "\n",
    "ground_path = prim_path + \"/Ground\"\n",
    "panel_path = prim_path + \"/Solar_Generator/Panel\"\n",
    "support1_path = prim_path + \"/Solar_Generator/Support1\"\n",
    "support2_path = prim_path + \"/Solar_Generator/Support2\"\n",
    "all_paths = [ground_path, panel_path, support1_path, support2_path]\n",
    "# create the prim\n",
    "prim = prims_utils.create_prim(prim_path=prim_path, usd_path=usd_path)\n",
    "world.render()"
   ]
  },
  {
   "cell_type": "code",
   "execution_count": 11,
   "id": "98a24c19-c100-4c98-938d-12f1039582a2",
   "metadata": {},
   "outputs": [],
   "source": [
    "timeline = get_timeline_interface()\n",
    "timeline.play()\n",
    "for _ in range(2):\n",
    "    simulation_app.update()\n",
    "timeline.pause()"
   ]
  },
  {
   "cell_type": "markdown",
   "id": "9af81500-2bd2-4c8a-81a1-e782f7da3d57",
   "metadata": {},
   "source": [
    "# Solar Power Generation"
   ]
  },
  {
   "cell_type": "code",
   "execution_count": 12,
   "id": "1824a2bd-d7db-4f1c-99bc-304c316c8207",
   "metadata": {},
   "outputs": [],
   "source": [
    "# get point centers\n",
    "face_vertex_indices = prims_utils.get_prim_attribute_value(panel_path, \"faceVertexIndices\")\n",
    "points_world = get_mesh_vertices_world(stage, panel_path)\n",
    "\n",
    "quad_centers = get_quad_centers(points_world, face_vertex_indices)"
   ]
  },
  {
   "cell_type": "code",
   "execution_count": 13,
   "id": "4bd3e39c-5d19-494e-94cb-6757bcbf703a",
   "metadata": {},
   "outputs": [],
   "source": [
    "length, width, height = prims_utils.get_prim_attribute_value(\n",
    "    panel_path, \"xformOp:scale\"\n",
    ")\n",
    "cell_area = length * width / 100"
   ]
  },
  {
   "cell_type": "code",
   "execution_count": 14,
   "id": "2795f3fa-421f-40ab-ab91-c62af91eb392",
   "metadata": {},
   "outputs": [],
   "source": [
    "dot_products = compute_sun_to_mesh(quad_centers)\n",
    "power_generation = compute_power(dot_products, cell_area)\n",
    "power_colors = color_conversion(power_generation, add_tail=True)"
   ]
  },
  {
   "cell_type": "code",
   "execution_count": 15,
   "id": "c395a84a-376f-4e43-8014-7ec8d54bb664",
   "metadata": {},
   "outputs": [],
   "source": [
    "prims_utils.set_prim_attribute_value(panel_path, \"primvars:displayColor\", power_colors)\n",
    "world.render()"
   ]
  },
  {
   "cell_type": "markdown",
   "id": "407ac3f9-dc9a-4d5a-9596-18a90833b9e7",
   "metadata": {},
   "source": [
    "## Animated solar power computation"
   ]
  },
  {
   "cell_type": "code",
   "execution_count": 16,
   "id": "c03898e7-f10b-4055-b377-ab604cfb709f",
   "metadata": {},
   "outputs": [],
   "source": [
    "N = 100\n",
    "panel_angles = np.zeros((N, 3)) \n",
    "panel_angles[:,0] = np.linspace(-50, 50, num=N)\n",
    "\n",
    "sun_angles = np.zeros((N, 3))\n",
    "sun_angles[:,0] = 3 * np.cos(np.linspace(0, 3.14, num=N))\n",
    "sun_angles[:,1] = 3 * np.sin(np.linspace(0, 3.14, num=N))\n",
    "sun_angles[:,2] = np.linspace(.05, 7.5, num=N)"
   ]
  },
  {
   "cell_type": "code",
   "execution_count": 17,
   "id": "d8cc57d3-e414-49ac-a696-9c9aa7b3d66d",
   "metadata": {},
   "outputs": [],
   "source": [
    "set_prim_orientation_euler(panel_path, [0, 0 , 0], degrees=True)\n",
    "world.render()"
   ]
  },
  {
   "cell_type": "code",
   "execution_count": 18,
   "id": "a64f5733-194f-47f9-a4dd-de2e215c567f",
   "metadata": {},
   "outputs": [],
   "source": [
    "length, width, height = prims_utils.get_prim_attribute_value(\n",
    "    panel_path, \"xformOp:scale\"\n",
    ")\n",
    "cell_area = length * width / 100\n",
    "\n",
    "power_gens = []\n",
    "for p,s in zip(panel_angles, sun_angles):\n",
    "    set_prim_orientation_euler(panel_path, p, degrees=True)\n",
    "    adjust_light(stage, tuple(s))\n",
    "    \n",
    "    timeline.play()\n",
    "    for _ in range(2):\n",
    "        simulation_app.update()\n",
    "    timeline.pause()\n",
    "\n",
    "    face_vertex_indices = prims_utils.get_prim_attribute_value(panel_path, \"faceVertexIndices\")\n",
    "    points_world = get_mesh_vertices_world(stage, panel_path)\n",
    "    quad_centers = get_quad_centers(points_world, face_vertex_indices)\n",
    "\n",
    "    dot_products = compute_sun_to_mesh(quad_centers)\n",
    "    power_generation = compute_power(dot_products, cell_area)\n",
    "    power_gens.append(np.nansum(power_generation[:100]))  # solar cells are only on top of mesh\n",
    "    power_colors = color_conversion(power_generation, norm_mode=[0, 1], add_tail=True)\n",
    "    power_colors[100:] = 0  # solar cells are only on top of mesh\n",
    "    prims_utils.set_prim_attribute_value(panel_path, \"primvars:displayColor\", power_colors)\n",
    "    world.render()"
   ]
  },
  {
   "cell_type": "code",
   "execution_count": 19,
   "id": "3379d7e4-4a31-45f0-80bd-5128d43bddd0",
   "metadata": {},
   "outputs": [
    {
     "data": {
      "image/png": "[encoded data removed]",
      "text/plain": [
       "<Figure size 800x600 with 1 Axes>"
      ]
     },
     "metadata": {},
     "output_type": "display_data"
    }
   ],
   "source": [
    "plt.figure(figsize=(8, 6))\n",
    "plt.plot(power_gens, 'o', label='solar panel')\n",
    "plt.title('Power generation across the lunar day')\n",
    "plt.ylabel('Power (W)')\n",
    "plt.xlabel('Time (percentage of the lunar day)')\n",
    "plt.legend()\n",
    "plt.grid(True)\n",
    "plt.show()"
   ]
  },
  {
   "cell_type": "markdown",
   "id": "25aa83d0-989a-43c8-a30d-0008e9b59871",
   "metadata": {},
   "source": [
    "# Thermal Computation"
   ]
  },
  {
   "cell_type": "markdown",
   "id": "7292ddf6-4c7a-46db-8018-aaa8280f977c",
   "metadata": {},
   "source": [
    "## Lunar Surface Thermal "
   ]
  },
  {
   "cell_type": "code",
   "execution_count": 20,
   "id": "2ebdff1d-3588-4d3f-a91a-422d63280cac",
   "metadata": {},
   "outputs": [],
   "source": [
    "from power_thermal_computation import LUNAR_ALPHA, LUNAR_EPSILON, SUN_POWER, SIGMA"
   ]
  },
  {
   "cell_type": "code",
   "execution_count": 21,
   "id": "17ae808c-6c12-42b6-b423-176d97ee63ef",
   "metadata": {},
   "outputs": [
    {
     "name": "stdout",
     "output_type": "stream",
     "text": [
      "in get_rect_normals(): assuming rectangles\n"
     ]
    }
   ],
   "source": [
    "face_vertex_indices = prims_utils.get_prim_attribute_value(ground_path, \"faceVertexIndices\")\n",
    "points_world = get_mesh_vertices_world(stage, ground_path)\n",
    "quad_centers = get_quad_centers(points_world, face_vertex_indices)\n",
    "sun_dot_products = compute_sun_to_mesh(quad_centers, output='dotproducts')\n",
    "normals = get_rect_normals(points_world, face_vertex_indices)"
   ]
  },
  {
   "cell_type": "code",
   "execution_count": 22,
   "id": "651a7c5f-937b-4228-b2d4-d254b25e7b85",
   "metadata": {},
   "outputs": [
    {
     "name": "stdout",
     "output_type": "stream",
     "text": [
      "{'mean': 236.2,\n",
      " 'median': 369.5,\n",
      " 'std': 172.9,\n",
      " 'min': 0.0,\n",
      " 'max': 387.8,\n",
      " '25%': 0.0,\n",
      " '50%': 369.5,\n",
      " '75%': 380.4,\n",
      " 'NaN count': 100,\n",
      " 'NaN %': 35.7}\n"
     ]
    },
    {
     "name": "stderr",
     "output_type": "stream",
     "text": [
      "/home/ljb/jaops/jaops-sim/src/demo_power_thermal/power_thermal_computation.py:173: RuntimeWarning: invalid value encountered in divide\n",
      "  temperatures = (q_sun / q_space) ** (1 / 4)\n"
     ]
    }
   ],
   "source": [
    "temperatures = compute_thermal_surface(sun_dot_products, normals, LUNAR_ALPHA, LUNAR_EPSILON)\n",
    "pprint(quick_stats(temperatures),  sort_dicts=False)"
   ]
  },
  {
   "cell_type": "code",
   "execution_count": 23,
   "id": "9c9f6eae-a3b5-4791-83a1-3ab2f0bb7309",
   "metadata": {},
   "outputs": [],
   "source": [
    "temperature_colors = color_conversion(temperatures, add_tail=True)\n",
    "prims_utils.set_prim_attribute_value(ground_path, \"primvars:displayColor\", temperature_colors)\n",
    "world.render()"
   ]
  },
  {
   "cell_type": "markdown",
   "id": "a05a6c64-799e-49ec-8418-2adf5dffbbc9",
   "metadata": {},
   "source": [
    "## Lunar Surface Animated"
   ]
  },
  {
   "cell_type": "code",
   "execution_count": 24,
   "id": "976154c5-f581-43e6-9a67-cb66eea87f0f",
   "metadata": {},
   "outputs": [
    {
     "name": "stdout",
     "output_type": "stream",
     "text": [
      "in get_rect_normals(): assuming rectangles\n"
     ]
    }
   ],
   "source": [
    "minmax = [100, 400]\n",
    "\n",
    "# lunar surface is static so only compute geometric aspects once\n",
    "face_vertex_indices = prims_utils.get_prim_attribute_value(ground_path, \"faceVertexIndices\")\n",
    "points_world = get_mesh_vertices_world(stage, ground_path)\n",
    "normals = get_rect_normals(points_world, face_vertex_indices)\n",
    "quad_centers = get_quad_centers(points_world, face_vertex_indices)\n",
    "\n",
    "# update computations for panel and sun angle movements \n",
    "for p,s in zip(panel_angles, sun_angles):\n",
    "    set_prim_orientation_euler(panel_path, p, degrees=True)\n",
    "    adjust_light(stage, tuple(s))\n",
    "    \n",
    "    timeline.play()\n",
    "    for _ in range(5):\n",
    "        simulation_app.update()\n",
    "    timeline.pause()\n",
    "\n",
    "    sun_dot_products = compute_sun_to_mesh(quad_centers, output='dotproducts')\n",
    "    temperatures = compute_thermal_surface(sun_dot_products, normals, LUNAR_ALPHA, LUNAR_EPSILON)\n",
    "    \n",
    "    #temperature_colors = color_conversion(temperatures, norm_mode=minmax, add_tail=True)\n",
    "    temperature_colors = color_conversion(temperatures, norm_mode='minmax', add_tail=True)\n",
    "    temperature_colors[100:] = 0  # only keep the top face of the lunar surface, set the other faces to black\n",
    "    prims_utils.set_prim_attribute_value(ground_path, \"primvars:displayColor\", temperature_colors)\n",
    "    world.render()"
   ]
  },
  {
   "cell_type": "markdown",
   "id": "204ba0a3-c1b4-41e2-9249-7ef3118552f0",
   "metadata": {},
   "source": [
    "## Solar Panel Thermal"
   ]
  },
  {
   "cell_type": "code",
   "execution_count": 25,
   "id": "0db6c5b0-f4eb-44ac-bdcc-fe509c25628e",
   "metadata": {},
   "outputs": [],
   "source": [
    "from power_thermal_computation import PANEL_ALPHA, PANEL_EPSILON"
   ]
  },
  {
   "cell_type": "code",
   "execution_count": 26,
   "id": "89e8fb11-255d-4ded-b3dc-5509e84a5c08",
   "metadata": {},
   "outputs": [
    {
     "name": "stdout",
     "output_type": "stream",
     "text": [
      "in get_rect_normals(): assuming rectangles\n",
      "in get_rect_areas(): assuming rectangles\n"
     ]
    }
   ],
   "source": [
    "face_vertex_indices = prims_utils.get_prim_attribute_value(panel_path, \"faceVertexIndices\")\n",
    "points_world = get_mesh_vertices_world(stage, panel_path)\n",
    "quad_centers = get_quad_centers(points_world, face_vertex_indices)\n",
    "sun_dot_products = compute_sun_to_mesh(quad_centers, output='dotproducts')\n",
    "normals = get_rect_normals(points_world, face_vertex_indices)\n",
    "rect_areas = get_rect_areas(points_world, face_vertex_indices)"
   ]
  },
  {
   "cell_type": "code",
   "execution_count": 27,
   "id": "f7312dc9-2058-407a-a3d7-2ea64209df6b",
   "metadata": {},
   "outputs": [
    {
     "data": {
      "text/plain": [
       "'300 degK'"
      ]
     },
     "execution_count": 27,
     "metadata": {},
     "output_type": "execute_result"
    }
   ],
   "source": [
    "panel_temperature = compute_thermal_node(\n",
    "    sun_dot_products,\n",
    "    rect_areas,\n",
    "    normals,\n",
    "    PANEL_ALPHA,\n",
    "    PANEL_EPSILON\n",
    ")\n",
    "f\"{panel_temperature:.0f} degK\""
   ]
  },
  {
   "cell_type": "code",
   "execution_count": 28,
   "id": "7a25f21b-734c-4a65-a3c6-e386d880b47a",
   "metadata": {},
   "outputs": [],
   "source": [
    "temperature_colors = color_conversion(np.ones(len(points_world)) * panel_temperature, [150, 400], add_tail=True)\n",
    "prims_utils.set_prim_attribute_value(panel_path, \"primvars:displayColor\", temperature_colors)\n",
    "world.render()"
   ]
  },
  {
   "cell_type": "markdown",
   "id": "536aa173-882a-400c-a41f-1d85a3b6d954",
   "metadata": {},
   "source": [
    "## Panel Supports Thermal"
   ]
  },
  {
   "cell_type": "code",
   "execution_count": 29,
   "id": "3e6aeef3-b83d-458f-962b-29102644ff57",
   "metadata": {},
   "outputs": [],
   "source": [
    "from power_thermal_computation import SUPPORT_ALPHA, SUPPORT_EPSILON"
   ]
  },
  {
   "cell_type": "code",
   "execution_count": 30,
   "id": "cab521ee-8106-4c09-8690-6213f60fb3a4",
   "metadata": {},
   "outputs": [
    {
     "name": "stdout",
     "output_type": "stream",
     "text": [
      "in get_rect_normals(): assuming rectangles\n",
      "in get_rect_areas(): assuming rectangles\n",
      "286 degK\n",
      "in get_rect_normals(): assuming rectangles\n",
      "in get_rect_areas(): assuming rectangles\n",
      "193 degK\n"
     ]
    }
   ],
   "source": [
    "for path in [support1_path, support2_path]:\n",
    "    \n",
    "    face_vertex_indices = prims_utils.get_prim_attribute_value(path, \"faceVertexIndices\")\n",
    "    points_world = get_mesh_vertices_world(stage, path)\n",
    "    quad_centers = get_quad_centers(points_world, face_vertex_indices)\n",
    "    sun_dot_products = compute_sun_to_mesh(quad_centers, output='dotproducts')\n",
    "    \n",
    "    normals = get_rect_normals(points_world, face_vertex_indices)\n",
    "    rect_areas = get_rect_areas(points_world, face_vertex_indices)\n",
    "    \n",
    "    panel_temperature = compute_thermal_node(\n",
    "        sun_dot_products,\n",
    "        rect_areas,\n",
    "        normals,\n",
    "        SUPPORT_ALPHA,\n",
    "        SUPPORT_EPSILON\n",
    "    )\n",
    "    print(f\"{panel_temperature:.0f} degK\")"
   ]
  },
  {
   "cell_type": "markdown",
   "id": "3b8e1538-d3f3-4531-a7be-40c94e87d37b",
   "metadata": {},
   "source": [
    "## Ephemeris of Sun Position in the Sky at Landing Site"
   ]
  },
  {
   "cell_type": "code",
   "execution_count": 31,
   "id": "cb94e29e-6b21-48b9-b274-481af84429ea",
   "metadata": {},
   "outputs": [],
   "source": [
    "from power_thermal_computation import SUN_AZ, SUN_EL\n",
    "\n",
    "N = 100  # number of samples to interpolate\n",
    "panel_angles = np.zeros((N, 3)) \n",
    "panel_angles[:,0] = np.linspace(-50, 50, num=N)  # roll between -50 and 50 degrees\n",
    "\n",
    "# Interpolation functions for azimuth and elevation\n",
    "from scipy.interpolate import interp1d\n",
    "M = len(SUN_AZ)\n",
    "assert M == len(SUN_EL)\n",
    "az_interp_func = interp1d(np.linspace(0, 1, M), SUN_AZ, kind='linear')\n",
    "el_interp_func = interp1d(np.linspace(0, 1, M), SUN_EL, kind='linear')\n",
    "\n",
    "# Generate interpolated azimuth and elevation values\n",
    "sun_az_interp = az_interp_func(np.linspace(0, 1, N))\n",
    "sun_el_interp = el_interp_func(np.linspace(0, 1, N))\n",
    "\n",
    "# Convert degrees to radians\n",
    "az_rad = np.radians(sun_az_interp)\n",
    "el_rad = np.radians(sun_el_interp)\n",
    "\n",
    "R = 10   # distance of Sun from center of scene (arbitrarily low in this case to see effects better)\n",
    "sun_angles = np.zeros((N, 3))\n",
    "sun_angles[:,0] = R * np.cos(el_rad) * np.cos(az_rad)\n",
    "sun_angles[:,1] = R * np.cos(el_rad) * np.sin(az_rad)\n",
    "sun_angles[:,2] = R * np.sin(el_rad)"
   ]
  },
  {
   "cell_type": "code",
   "execution_count": 32,
   "id": "60057379-6ab4-44bc-8fa6-afc6d75b284e",
   "metadata": {},
   "outputs": [
    {
     "data": {
      "image/png": "[encoded data removed]",
      "text/plain": [
       "<Figure size 800x600 with 1 Axes>"
      ]
     },
     "metadata": {},
     "output_type": "display_data"
    }
   ],
   "source": [
    "# Plotting Elevation as a function of Azimuth\n",
    "plt.figure(figsize=(8, 6))\n",
    "plt.plot(SUN_AZ, SUN_EL, 'o', label='Original Data')\n",
    "plt.plot(sun_az_interp, sun_el_interp, '+', label='Interpolated Data')\n",
    "plt.title('Elevation vs. Azimuth')\n",
    "plt.xlabel('Azimuth (degrees)')\n",
    "plt.ylabel('Elevation (degrees)')\n",
    "plt.legend()\n",
    "plt.grid(True)\n",
    "plt.show()"
   ]
  },
  {
   "cell_type": "code",
   "execution_count": 33,
   "id": "d920d166-2083-4731-bd79-4a141907a06f",
   "metadata": {},
   "outputs": [
    {
     "data": {
      "image/png": "[encoded data removed]",
      "text/plain": [
       "<Figure size 800x600 with 1 Axes>"
      ]
     },
     "metadata": {},
     "output_type": "display_data"
    }
   ],
   "source": [
    "# Plotting Elevation as a function of Azimuth\n",
    "plt.figure(figsize=(8, 6))\n",
    "plt.plot(sun_angles[:, 0], sun_angles[:, 1], '+')\n",
    "plt.grid(True)\n",
    "plt.title('ground track (X/Y plot) of the Sun')\n",
    "plt.xlabel('X (m)')\n",
    "plt.ylabel('Y (m)')\n",
    "\n",
    "plt.show()"
   ]
  },
  {
   "cell_type": "code",
   "execution_count": 34,
   "id": "8790b09d-9515-4219-b861-4ee756aae230",
   "metadata": {},
   "outputs": [
    {
     "data": {
      "image/png": "[encoded data removed]",
      "text/plain": [
       "<Figure size 800x600 with 1 Axes>"
      ]
     },
     "metadata": {},
     "output_type": "display_data"
    }
   ],
   "source": [
    "# Plotting Elevation as a function of Azimuth\n",
    "plt.figure(figsize=(8, 6))\n",
    "plt.plot(sun_angles[:, 2], '.')\n",
    "plt.grid(True)\n",
    "plt.title('vertical extent (Z) of the Sun')\n",
    "plt.xlabel('time (percentage of the lunar day)')\n",
    "plt.ylabel('z (m)')\n",
    "\n",
    "plt.show()"
   ]
  },
  {
   "cell_type": "markdown",
   "id": "4293d290-a37c-406c-95ad-98d45c716b18",
   "metadata": {},
   "source": [
    "## Full Animation: Thermal"
   ]
  },
  {
   "cell_type": "code",
   "execution_count": 35,
   "id": "76f4ffe4-8c8b-4de5-a1fa-8917bc2f0bad",
   "metadata": {},
   "outputs": [
    {
     "name": "stdout",
     "output_type": "stream",
     "text": [
      "in get_rect_normals(): assuming rectangles\n",
      "in get_rect_normals(): assuming rectangles\n",
      "in get_rect_areas(): assuming rectangles\n",
      "in get_rect_normals(): assuming rectangles\n",
      "in get_rect_areas(): assuming rectangles\n"
     ]
    }
   ],
   "source": [
    "scene = {}\n",
    "\n",
    "# lunar surface is static so only compute geometric aspects once\n",
    "data = {}\n",
    "data['face_vertex_indices'] = prims_utils.get_prim_attribute_value(ground_path, \"faceVertexIndices\")\n",
    "data['points_world'] = get_mesh_vertices_world(stage, ground_path)\n",
    "data['normals'] = get_rect_normals(data['points_world'], data['face_vertex_indices'])\n",
    "data['quad_centers'] = get_quad_centers(data['points_world'], data['face_vertex_indices'])\n",
    "data['alpha'] = LUNAR_ALPHA\n",
    "data['epsilon'] = LUNAR_EPSILON\n",
    "data['temperatures'] = []\n",
    "scene['surface'] = data.copy()\n",
    "\n",
    "# supports are static so only compute geometric aspects once\n",
    "for i in [1, 2]:\n",
    "    data = {}\n",
    "    data['face_vertex_indices'] = prims_utils.get_prim_attribute_value(support1_path[:-1] + str(i), \"faceVertexIndices\")\n",
    "    data['points_world'] = get_mesh_vertices_world(stage, support1_path[:-1] + str(i))\n",
    "    data['quad_centers'] = get_quad_centers(data['points_world'], data['face_vertex_indices'])\n",
    "    data['normals'] = get_rect_normals(data['points_world'], data['face_vertex_indices'])\n",
    "    data['rect_areas'] = get_rect_areas(data['points_world'], data['face_vertex_indices'])\n",
    "    data['alpha'] = SUPPORT_ALPHA\n",
    "    data['epsilon'] = SUPPORT_EPSILON\n",
    "    data['temperatures'] = []\n",
    "    scene[f'support{i}'] = data.copy()\n",
    "\n",
    "scene['panel'] = {}\n",
    "scene['panel']['temperatures'] = []"
   ]
  },
  {
   "cell_type": "code",
   "execution_count": 36,
   "id": "7a5972b4-629a-4b83-bf43-f530eac68fc0",
   "metadata": {
    "scrolled": true
   },
   "outputs": [
    {
     "name": "stdout",
     "output_type": "stream",
     "text": [
      "in get_rect_normals(): assuming rectangles\n",
      "in get_rect_areas(): assuming rectangles\n"
     ]
    },
    {
     "name": "stderr",
     "output_type": "stream",
     "text": [
      "/home/ljb/jaops/jaops-sim/src/demo_power_thermal/power_thermal_computation.py:173: RuntimeWarning: invalid value encountered in divide\n",
      "  temperatures = (q_sun / q_space) ** (1 / 4)\n"
     ]
    },
    {
     "name": "stdout",
     "output_type": "stream",
     "text": [
      "in get_rect_normals(): assuming rectangles\n",
      "in get_rect_areas(): assuming rectangles\n",
      "in get_rect_normals(): assuming rectangles\n",
      "in get_rect_areas(): assuming rectangles\n",
      "in get_rect_normals(): assuming rectangles\n",
      "in get_rect_areas(): assuming rectangles\n",
      "in get_rect_normals(): assuming rectangles\n",
      "in get_rect_areas(): assuming rectangles\n",
      "in get_rect_normals(): assuming rectangles\n",
      "in get_rect_areas(): assuming rectangles\n",
      "in get_rect_normals(): assuming rectangles\n",
      "in get_rect_areas(): assuming rectangles\n",
      "in get_rect_normals(): assuming rectangles\n",
      "in get_rect_areas(): assuming rectangles\n",
      "in get_rect_normals(): assuming rectangles\n",
      "in get_rect_areas(): assuming rectangles\n",
      "in get_rect_normals(): assuming rectangles\n",
      "in get_rect_areas(): assuming rectangles\n",
      "in get_rect_normals(): assuming rectangles\n",
      "in get_rect_areas(): assuming rectangles\n",
      "in get_rect_normals(): assuming rectangles\n",
      "in get_rect_areas(): assuming rectangles\n",
      "in get_rect_normals(): assuming rectangles\n",
      "in get_rect_areas(): assuming rectangles\n",
      "in get_rect_normals(): assuming rectangles\n",
      "in get_rect_areas(): assuming rectangles\n",
      "in get_rect_normals(): assuming rectangles\n",
      "in get_rect_areas(): assuming rectangles\n",
      "in get_rect_normals(): assuming rectangles\n",
      "in get_rect_areas(): assuming rectangles\n",
      "in get_rect_normals(): assuming rectangles\n",
      "in get_rect_areas(): assuming rectangles\n",
      "in get_rect_normals(): assuming rectangles\n",
      "in get_rect_areas(): assuming rectangles\n",
      "in get_rect_normals(): assuming rectangles\n",
      "in get_rect_areas(): assuming rectangles\n",
      "in get_rect_normals(): assuming rectangles\n",
      "in get_rect_areas(): assuming rectangles\n",
      "in get_rect_normals(): assuming rectangles\n",
      "in get_rect_areas(): assuming rectangles\n",
      "in get_rect_normals(): assuming rectangles\n",
      "in get_rect_areas(): assuming rectangles\n",
      "in get_rect_normals(): assuming rectangles\n",
      "in get_rect_areas(): assuming rectangles\n",
      "in get_rect_normals(): assuming rectangles\n",
      "in get_rect_areas(): assuming rectangles\n",
      "in get_rect_normals(): assuming rectangles\n",
      "in get_rect_areas(): assuming rectangles\n",
      "in get_rect_normals(): assuming rectangles\n",
      "in get_rect_areas(): assuming rectangles\n",
      "in get_rect_normals(): assuming rectangles\n",
      "in get_rect_areas(): assuming rectangles\n",
      "in get_rect_normals(): assuming rectangles\n",
      "in get_rect_areas(): assuming rectangles\n",
      "in get_rect_normals(): assuming rectangles\n",
      "in get_rect_areas(): assuming rectangles\n",
      "in get_rect_normals(): assuming rectangles\n",
      "in get_rect_areas(): assuming rectangles\n",
      "in get_rect_normals(): assuming rectangles\n",
      "in get_rect_areas(): assuming rectangles\n",
      "in get_rect_normals(): assuming rectangles\n",
      "in get_rect_areas(): assuming rectangles\n",
      "in get_rect_normals(): assuming rectangles\n",
      "in get_rect_areas(): assuming rectangles\n",
      "in get_rect_normals(): assuming rectangles\n",
      "in get_rect_areas(): assuming rectangles\n",
      "in get_rect_normals(): assuming rectangles\n",
      "in get_rect_areas(): assuming rectangles\n",
      "in get_rect_normals(): assuming rectangles\n",
      "in get_rect_areas(): assuming rectangles\n",
      "in get_rect_normals(): assuming rectangles\n",
      "in get_rect_areas(): assuming rectangles\n",
      "in get_rect_normals(): assuming rectangles\n",
      "in get_rect_areas(): assuming rectangles\n",
      "in get_rect_normals(): assuming rectangles\n",
      "in get_rect_areas(): assuming rectangles\n",
      "in get_rect_normals(): assuming rectangles\n",
      "in get_rect_areas(): assuming rectangles\n",
      "in get_rect_normals(): assuming rectangles\n",
      "in get_rect_areas(): assuming rectangles\n",
      "in get_rect_normals(): assuming rectangles\n",
      "in get_rect_areas(): assuming rectangles\n",
      "in get_rect_normals(): assuming rectangles\n",
      "in get_rect_areas(): assuming rectangles\n",
      "in get_rect_normals(): assuming rectangles\n",
      "in get_rect_areas(): assuming rectangles\n",
      "in get_rect_normals(): assuming rectangles\n",
      "in get_rect_areas(): assuming rectangles\n",
      "in get_rect_normals(): assuming rectangles\n",
      "in get_rect_areas(): assuming rectangles\n",
      "in get_rect_normals(): assuming rectangles\n",
      "in get_rect_areas(): assuming rectangles\n",
      "in get_rect_normals(): assuming rectangles\n",
      "in get_rect_areas(): assuming rectangles\n",
      "in get_rect_normals(): assuming rectangles\n",
      "in get_rect_areas(): assuming rectangles\n",
      "in get_rect_normals(): assuming rectangles\n",
      "in get_rect_areas(): assuming rectangles\n",
      "in get_rect_normals(): assuming rectangles\n",
      "in get_rect_areas(): assuming rectangles\n",
      "in get_rect_normals(): assuming rectangles\n",
      "in get_rect_areas(): assuming rectangles\n",
      "in get_rect_normals(): assuming rectangles\n",
      "in get_rect_areas(): assuming rectangles\n",
      "in get_rect_normals(): assuming rectangles\n",
      "in get_rect_areas(): assuming rectangles\n",
      "in get_rect_normals(): assuming rectangles\n",
      "in get_rect_areas(): assuming rectangles\n",
      "in get_rect_normals(): assuming rectangles\n",
      "in get_rect_areas(): assuming rectangles\n",
      "in get_rect_normals(): assuming rectangles\n",
      "in get_rect_areas(): assuming rectangles\n",
      "in get_rect_normals(): assuming rectangles\n",
      "in get_rect_areas(): assuming rectangles\n",
      "in get_rect_normals(): assuming rectangles\n",
      "in get_rect_areas(): assuming rectangles\n",
      "in get_rect_normals(): assuming rectangles\n",
      "in get_rect_areas(): assuming rectangles\n",
      "in get_rect_normals(): assuming rectangles\n",
      "in get_rect_areas(): assuming rectangles\n",
      "in get_rect_normals(): assuming rectangles\n",
      "in get_rect_areas(): assuming rectangles\n",
      "in get_rect_normals(): assuming rectangles\n",
      "in get_rect_areas(): assuming rectangles\n",
      "in get_rect_normals(): assuming rectangles\n",
      "in get_rect_areas(): assuming rectangles\n",
      "in get_rect_normals(): assuming rectangles\n",
      "in get_rect_areas(): assuming rectangles\n",
      "in get_rect_normals(): assuming rectangles\n",
      "in get_rect_areas(): assuming rectangles\n",
      "in get_rect_normals(): assuming rectangles\n",
      "in get_rect_areas(): assuming rectangles\n",
      "in get_rect_normals(): assuming rectangles\n",
      "in get_rect_areas(): assuming rectangles\n",
      "in get_rect_normals(): assuming rectangles\n",
      "in get_rect_areas(): assuming rectangles\n",
      "in get_rect_normals(): assuming rectangles\n",
      "in get_rect_areas(): assuming rectangles\n",
      "in get_rect_normals(): assuming rectangles\n",
      "in get_rect_areas(): assuming rectangles\n",
      "in get_rect_normals(): assuming rectangles\n",
      "in get_rect_areas(): assuming rectangles\n",
      "in get_rect_normals(): assuming rectangles\n",
      "in get_rect_areas(): assuming rectangles\n",
      "in get_rect_normals(): assuming rectangles\n",
      "in get_rect_areas(): assuming rectangles\n",
      "in get_rect_normals(): assuming rectangles\n",
      "in get_rect_areas(): assuming rectangles\n",
      "in get_rect_normals(): assuming rectangles\n",
      "in get_rect_areas(): assuming rectangles\n",
      "in get_rect_normals(): assuming rectangles\n",
      "in get_rect_areas(): assuming rectangles\n",
      "in get_rect_normals(): assuming rectangles\n",
      "in get_rect_areas(): assuming rectangles\n",
      "in get_rect_normals(): assuming rectangles\n",
      "in get_rect_areas(): assuming rectangles\n",
      "in get_rect_normals(): assuming rectangles\n",
      "in get_rect_areas(): assuming rectangles\n",
      "in get_rect_normals(): assuming rectangles\n",
      "in get_rect_areas(): assuming rectangles\n",
      "in get_rect_normals(): assuming rectangles\n",
      "in get_rect_areas(): assuming rectangles\n",
      "in get_rect_normals(): assuming rectangles\n",
      "in get_rect_areas(): assuming rectangles\n",
      "in get_rect_normals(): assuming rectangles\n",
      "in get_rect_areas(): assuming rectangles\n",
      "in get_rect_normals(): assuming rectangles\n",
      "in get_rect_areas(): assuming rectangles\n",
      "in get_rect_normals(): assuming rectangles\n",
      "in get_rect_areas(): assuming rectangles\n",
      "in get_rect_normals(): assuming rectangles\n",
      "in get_rect_areas(): assuming rectangles\n",
      "in get_rect_normals(): assuming rectangles\n",
      "in get_rect_areas(): assuming rectangles\n",
      "in get_rect_normals(): assuming rectangles\n",
      "in get_rect_areas(): assuming rectangles\n",
      "in get_rect_normals(): assuming rectangles\n",
      "in get_rect_areas(): assuming rectangles\n",
      "in get_rect_normals(): assuming rectangles\n",
      "in get_rect_areas(): assuming rectangles\n",
      "in get_rect_normals(): assuming rectangles\n",
      "in get_rect_areas(): assuming rectangles\n",
      "in get_rect_normals(): assuming rectangles\n",
      "in get_rect_areas(): assuming rectangles\n",
      "in get_rect_normals(): assuming rectangles\n",
      "in get_rect_areas(): assuming rectangles\n",
      "in get_rect_normals(): assuming rectangles\n",
      "in get_rect_areas(): assuming rectangles\n",
      "in get_rect_normals(): assuming rectangles\n",
      "in get_rect_areas(): assuming rectangles\n",
      "in get_rect_normals(): assuming rectangles\n",
      "in get_rect_areas(): assuming rectangles\n",
      "in get_rect_normals(): assuming rectangles\n",
      "in get_rect_areas(): assuming rectangles\n",
      "in get_rect_normals(): assuming rectangles\n",
      "in get_rect_areas(): assuming rectangles\n",
      "in get_rect_normals(): assuming rectangles\n",
      "in get_rect_areas(): assuming rectangles\n"
     ]
    }
   ],
   "source": [
    "# update computations for panel and sun angle movements \n",
    "minmax = [200, 450]\n",
    "adjust_light(stage, sun_coord, intensity=3e12)\n",
    "for p,s in zip(panel_angles, sun_angles):\n",
    "    set_prim_orientation_euler(panel_path, p, degrees=True)\n",
    "    adjust_light(stage, tuple(s))\n",
    "    \n",
    "    timeline.play()\n",
    "    for _ in range(2):\n",
    "        simulation_app.update()\n",
    "    timeline.pause()\n",
    "\n",
    "    ## independent equation: lunar surface thermal\n",
    "    data = scene['surface']\n",
    "    sun_dot_products = compute_sun_to_mesh(data['quad_centers'], output='dotproducts')\n",
    "    temperatures = compute_thermal_surface(sun_dot_products, data['normals'], LUNAR_ALPHA, LUNAR_EPSILON)    \n",
    "    temperature_colors = color_conversion(temperatures, minmax, add_tail=True)\n",
    "    temperature_colors[100:] = 0  # only keep the top face of the lunar surface, set the other faces to black\n",
    "    data['temperatures'].append(np.nanmedian(temperatures[:100]))  # only consider the top face of the lunar surface\n",
    "    #print(np.nanmax(temperatures))\n",
    "    prims_utils.set_prim_attribute_value(ground_path, \"primvars:displayColor\", temperature_colors)\n",
    "    scene['surface'] = data.copy()\n",
    "    \n",
    "    ## single node equation: panel and support thermal\n",
    "\n",
    "    # compute the panel data that changes on each loop\n",
    "    data = scene['panel']\n",
    "    data['face_vertex_indices'] = prims_utils.get_prim_attribute_value(panel_path, \"faceVertexIndices\")\n",
    "    data['points_world'] = get_mesh_vertices_world(stage, panel_path)\n",
    "    data['quad_centers'] = get_quad_centers(data['points_world'], data['face_vertex_indices'])\n",
    "    data['normals'] = get_rect_normals(data['points_world'], data['face_vertex_indices'])\n",
    "    data['rect_areas'] = get_rect_areas(data['points_world'], data['face_vertex_indices'])\n",
    "    data['alpha'] = PANEL_ALPHA\n",
    "    data['epsilon'] = PANEL_EPSILON\n",
    "    scene['panel'] = data.copy()\n",
    "\n",
    "    # compute the thermal data for all three nodes\n",
    "    for node, path in zip(['panel', 'support1', 'support2'], [panel_path, support1_path, support2_path]):\n",
    "        \n",
    "        data = scene[node]\n",
    "        sun_dot_products = compute_sun_to_mesh(data['quad_centers'], output='dotproducts')        \n",
    "        temperature = compute_thermal_node(\n",
    "            sun_dot_products,\n",
    "            data['rect_areas'],\n",
    "            data['normals'],\n",
    "            data['alpha'],\n",
    "            data['epsilon']\n",
    "        )\n",
    "        #if node=='panel': print(temperature)\n",
    "        #print(f\"{temperature:.0f} degK\")\n",
    "        data['temperatures'].append(temperature)\n",
    "        #if node=='panel': print(data['temperatures'])\n",
    "        scene[node] = data.copy()\n",
    "        temperature_colors = color_conversion(np.ones(len(data['points_world'])) * temperature, minmax, add_tail=True)\n",
    "        prims_utils.set_prim_attribute_value(path, \"primvars:displayColor\", temperature_colors)\n",
    "\n",
    "    \n",
    "    world.render()"
   ]
  },
  {
   "cell_type": "code",
   "execution_count": 37,
   "id": "9009f3b8-ce3e-46ea-bcf4-1f215ce93e0b",
   "metadata": {},
   "outputs": [
    {
     "name": "stdout",
     "output_type": "stream",
     "text": [
      "{'mean': 79.4,\n",
      " 'median': 79.1,\n",
      " 'std': 2.8,\n",
      " 'min': 75.1,\n",
      " 'max': 84.6,\n",
      " '25%': 77.0,\n",
      " '50%': 79.1,\n",
      " '75%': 81.9,\n",
      " 'NaN count': 0,\n",
      " 'NaN %': 0.0}\n"
     ]
    }
   ],
   "source": [
    "pprint(quick_stats(temperatures[:100]), sort_dicts=False)"
   ]
  },
  {
   "cell_type": "code",
   "execution_count": 38,
   "id": "5b4ee383-1e61-4043-9e32-7816e321b24f",
   "metadata": {},
   "outputs": [
    {
     "data": {
      "image/png": "[encoded data removed]",
      "text/plain": [
       "<Figure size 800x600 with 1 Axes>"
      ]
     },
     "metadata": {},
     "output_type": "display_data"
    }
   ],
   "source": [
    "# Plotting Elevation as a function of Azimuth\n",
    "plt.figure(figsize=(8, 6))\n",
    "\n",
    "plt.plot(scene['surface']['temperatures'], 'o', label='surface')\n",
    "plt.plot(scene['panel']['temperatures'], 'o', label='solar panel')\n",
    "plt.plot(scene['support1']['temperatures'], 'o', label='support 1')\n",
    "plt.plot(scene['support2']['temperatures'], 'o', label='support 2')\n",
    "\n",
    "plt.title('temperature across the lunar day')\n",
    "plt.ylabel('Temperature (Kelvin)')\n",
    "plt.xlabel('Time (percentage of the lunar day)')\n",
    "plt.legend()\n",
    "plt.grid(True)\n",
    "\n",
    "plt.show()"
   ]
  },
  {
   "cell_type": "code",
   "execution_count": null,
   "id": "b8e9fc4d-29a5-441d-8aac-80c1636343fe",
   "metadata": {},
   "outputs": [],
   "source": []
  },
  {
   "cell_type": "markdown",
   "id": "409e2241-44fb-4d96-95c7-74452b9b30bc",
   "metadata": {},
   "source": [
    "\n",
    "## Utils"
   ]
  },
  {
   "cell_type": "code",
   "execution_count": 39,
   "id": "9d1b0f19-197d-4279-9d80-d8310080b0df",
   "metadata": {},
   "outputs": [],
   "source": [
    "from mesh_raycast_utils import test_cube_face_color, test_cube_vertex_color"
   ]
  },
  {
   "cell_type": "code",
   "execution_count": 40,
   "id": "f0ea3d13-aedf-4fbb-8ed4-0788b74a6258",
   "metadata": {},
   "outputs": [],
   "source": [
    "# each cube face is a different color:\n",
    "# face_colors = test_cube_face_color(ground_path)\n",
    "# prims_utils.set_prim_attribute_value(ground_path, \"primvars:displayColor\", face_colors)\n",
    "# world.render()"
   ]
  },
  {
   "cell_type": "code",
   "execution_count": 41,
   "id": "5b3d8128-d28a-4575-8bb1-51f5d7c1a291",
   "metadata": {},
   "outputs": [],
   "source": [
    "# each vertex of a cube face is a different color: \n",
    "# face_colors = test_cube_vertex_color(ground_path)\n",
    "# prims_utils.set_prim_attribute_value(ground_path, \"primvars:displayColor\", face_colors)\n",
    "# world.render()"
   ]
  }
 ],
 "metadata": {
  "kernelspec": {
   "display_name": "Isaac Sim Python 3",
   "language": "python",
   "name": "isaac_sim_python3"
  },
  "language_info": {
   "codemirror_mode": {
    "name": "ipython",
    "version": 3
   },
   "file_extension": ".py",
   "mimetype": "text/x-python",
   "name": "python",
   "nbconvert_exporter": "python",
   "pygments_lexer": "ipython3",
   "version": "3.10.14"
  }
 },
 "nbformat": 4,
 "nbformat_minor": 5
}
